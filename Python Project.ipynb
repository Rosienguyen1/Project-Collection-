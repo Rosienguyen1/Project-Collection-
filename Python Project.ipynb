{
 "cells": [
  {
   "cell_type": "markdown",
   "metadata": {
    "id": "n0ZKqZaTWkpg"
   },
   "source": [
    "# Portfolio Part 3 - Analysis of Loan Approval Data (2024 S2)"
   ]
  },
  {
   "cell_type": "markdown",
   "metadata": {
    "id": "O9R7rVmlXaMX"
   },
   "source": [
    "## Task background\n",
    "In this Portfolio task, you will work on a new dataset named 'Loan Approval' which is a modified version from a synthetic Dataset for Risk Assessment and Loan Approval Modeling (many thanks to LORENZO ZOPPELLETTO for the sharing of this dataset). This dataset comprises 20,000 records of personal and financial data, designed to facilitate the development of predictive models for risk assessment and loan approval. In this portfolio part, you are mainly required to train classification models to determine the outcome of loan approval, indicating whether an applicant is likely to be approved or denied for a loan.\n",
    "\n",
    "The dataset includes diverse features such as demographic information, credit history, employment status, income levels, existing debt, and other relevant financial metrics, providing a comprehensive foundation for sophisticated data-driven analysis and decision-making.\n",
    "\n",
    "The dataset includes the following columns:\n",
    "\n",
    "|Column|Meaning|\n",
    "|:-----|:-----|\n",
    "|ApplicationDate| Loan application date|\n",
    "|Age| Applicant's age|\n",
    "|AnnualIncome| Yearly income|\n",
    "|CreditScore| Creditworthiness score|\n",
    "|EmploymentStatus| Job situation|\n",
    "|EducationLevel| Highest education attained|\n",
    "|Experience| Work experience|\n",
    "|LoanAmount| Requested loan size|\n",
    "|LoanDuration| Loan repayment period|\n",
    "|MaritalStatus| Applicant's marital state|\n",
    "|NumberOfDependents| Number of dependents|\n",
    "|HomeOwnershipStatus| Homeownership type|\n",
    "|MonthlyDebtPayments| Monthly debt obligations|\n",
    "|CreditCardUtilizationRate| Credit card usage percentage|\n",
    "|NumberOfOpenCreditLines| Active credit lines|\n",
    "|NumberOfCreditInquiries| Credit checks count|\n",
    "|DebtToIncomeRatio| Debt to income proportion|\n",
    "|BankruptcyHistory| Bankruptcy records|\n",
    "|LoanPurpose| Reason for loan|\n",
    "|PreviousLoanDefaults| Prior loan defaults|\n",
    "|PaymentHistory| Past payment behavior|\n",
    "|LengthOfCreditHistory| Credit history duration|\n",
    "|SavingsAccountBalance| Savings account amount|\n",
    "|CheckingAccountBalance| Checking account funds|\n",
    "|TotalAssets| Total owned assets|\n",
    "|TotalLiabilities| Total owed debts|\n",
    "|MonthlyIncome| Income per month|\n",
    "|UtilityBillsPaymentHistory| Utility payment record|\n",
    "|JobTenure| Job duration|\n",
    "|NetWorth| Total financial worth|\n",
    "|BaseInterestRate| Starting interest rate|\n",
    "|InterestRate| Applied interest rate|\n",
    "|MonthlyLoanPayment| Monthly loan payment|\n",
    "|TotalDebtToIncomeRatio| Total debt against income|\n",
    "|LoanApproved| Loan approval status|\n",
    "|RiskScore| Risk assessment score|"
   ]
  },
  {
   "cell_type": "markdown",
   "metadata": {
    "id": "o0VDQbC-es_8"
   },
   "source": [
    "## Task Description\n",
    "Your high level goal in this notebook is to build and evaluate predictive models for 'loan approval' from other available features. More specifically, you need to complete the following major tasks:\n",
    "\n",
    "1. Clean and preprocess the dataset for the downstream data analysis tasks.\n",
    "\n",
    "2. Build and evaluate logistic regression models with this datasets.\n",
    "\n",
    "3. Build and evaluate KNN models with this datasets.\n",
    "\n",
    "Note 1: While the main steps of each task have been given with the requirements, you should learn how to properly organise and comment your notebook by yourself to ensure that your notebook file is professional and readable.\n",
    "\n",
    "Note 2: You will be evaluated on the accuracy of the model, the process that you produce the results,  and your clear description and justification of your implementation. So, try your best to comment your source code to showing your understanding and critical thinking.\n"
   ]
  },
  {
   "cell_type": "markdown",
   "metadata": {},
   "source": [
    "## Load the dataset and show the basic information"
   ]
  },
  {
   "cell_type": "code",
   "execution_count": 1,
   "metadata": {},
   "outputs": [
    {
     "data": {
      "text/html": [
       "<div>\n",
       "<style scoped>\n",
       "    .dataframe tbody tr th:only-of-type {\n",
       "        vertical-align: middle;\n",
       "    }\n",
       "\n",
       "    .dataframe tbody tr th {\n",
       "        vertical-align: top;\n",
       "    }\n",
       "\n",
       "    .dataframe thead th {\n",
       "        text-align: right;\n",
       "    }\n",
       "</style>\n",
       "<table border=\"1\" class=\"dataframe\">\n",
       "  <thead>\n",
       "    <tr style=\"text-align: right;\">\n",
       "      <th></th>\n",
       "      <th>ApplicationDate</th>\n",
       "      <th>Age</th>\n",
       "      <th>AnnualIncome</th>\n",
       "      <th>CreditScore</th>\n",
       "      <th>EmploymentStatus</th>\n",
       "      <th>EducationLevel</th>\n",
       "      <th>Experience</th>\n",
       "      <th>LoanAmount</th>\n",
       "      <th>LoanDuration</th>\n",
       "      <th>MaritalStatus</th>\n",
       "      <th>...</th>\n",
       "      <th>MonthlyIncome</th>\n",
       "      <th>UtilityBillsPaymentHistory</th>\n",
       "      <th>JobTenure</th>\n",
       "      <th>NetWorth</th>\n",
       "      <th>BaseInterestRate</th>\n",
       "      <th>InterestRate</th>\n",
       "      <th>MonthlyLoanPayment</th>\n",
       "      <th>TotalDebtToIncomeRatio</th>\n",
       "      <th>LoanApproved</th>\n",
       "      <th>RiskScore</th>\n",
       "    </tr>\n",
       "  </thead>\n",
       "  <tbody>\n",
       "    <tr>\n",
       "      <th>0</th>\n",
       "      <td>2018-01-01</td>\n",
       "      <td>45.0</td>\n",
       "      <td>39948</td>\n",
       "      <td>617</td>\n",
       "      <td>Employed</td>\n",
       "      <td>Master</td>\n",
       "      <td>22</td>\n",
       "      <td>13152</td>\n",
       "      <td>48</td>\n",
       "      <td>Married</td>\n",
       "      <td>...</td>\n",
       "      <td>3329.000000</td>\n",
       "      <td>0.724972</td>\n",
       "      <td>11</td>\n",
       "      <td>126928</td>\n",
       "      <td>0.199652</td>\n",
       "      <td>0.227590</td>\n",
       "      <td>419.805992</td>\n",
       "      <td>0.181077</td>\n",
       "      <td>0</td>\n",
       "      <td>NaN</td>\n",
       "    </tr>\n",
       "    <tr>\n",
       "      <th>1</th>\n",
       "      <td>2018-01-02</td>\n",
       "      <td>38.0</td>\n",
       "      <td>39709</td>\n",
       "      <td>628</td>\n",
       "      <td>Employed</td>\n",
       "      <td>Associate</td>\n",
       "      <td>15</td>\n",
       "      <td>26045</td>\n",
       "      <td>48</td>\n",
       "      <td>Single</td>\n",
       "      <td>...</td>\n",
       "      <td>3309.083333</td>\n",
       "      <td>0.935132</td>\n",
       "      <td>3</td>\n",
       "      <td>43609</td>\n",
       "      <td>0.207045</td>\n",
       "      <td>0.201077</td>\n",
       "      <td>794.054238</td>\n",
       "      <td>0.389852</td>\n",
       "      <td>0</td>\n",
       "      <td>52.0</td>\n",
       "    </tr>\n",
       "    <tr>\n",
       "      <th>2</th>\n",
       "      <td>2018-01-03</td>\n",
       "      <td>47.0</td>\n",
       "      <td>40724</td>\n",
       "      <td>570</td>\n",
       "      <td>Employed</td>\n",
       "      <td>Bachelor</td>\n",
       "      <td>26</td>\n",
       "      <td>17627</td>\n",
       "      <td>36</td>\n",
       "      <td>Married</td>\n",
       "      <td>...</td>\n",
       "      <td>3393.666667</td>\n",
       "      <td>0.872241</td>\n",
       "      <td>6</td>\n",
       "      <td>5205</td>\n",
       "      <td>0.217627</td>\n",
       "      <td>0.212548</td>\n",
       "      <td>666.406688</td>\n",
       "      <td>0.462157</td>\n",
       "      <td>0</td>\n",
       "      <td>NaN</td>\n",
       "    </tr>\n",
       "    <tr>\n",
       "      <th>3</th>\n",
       "      <td>2018-01-04</td>\n",
       "      <td>58.0</td>\n",
       "      <td>69084</td>\n",
       "      <td>545</td>\n",
       "      <td>Employed</td>\n",
       "      <td>High School</td>\n",
       "      <td>34</td>\n",
       "      <td>37898</td>\n",
       "      <td>96</td>\n",
       "      <td>Single</td>\n",
       "      <td>...</td>\n",
       "      <td>5757.000000</td>\n",
       "      <td>0.896155</td>\n",
       "      <td>5</td>\n",
       "      <td>99452</td>\n",
       "      <td>0.300398</td>\n",
       "      <td>0.300911</td>\n",
       "      <td>1047.506980</td>\n",
       "      <td>0.313098</td>\n",
       "      <td>0</td>\n",
       "      <td>NaN</td>\n",
       "    </tr>\n",
       "    <tr>\n",
       "      <th>4</th>\n",
       "      <td>2018-01-05</td>\n",
       "      <td>37.0</td>\n",
       "      <td>103264</td>\n",
       "      <td>594</td>\n",
       "      <td>Employed</td>\n",
       "      <td>Associate</td>\n",
       "      <td>17</td>\n",
       "      <td>9184</td>\n",
       "      <td>36</td>\n",
       "      <td>Married</td>\n",
       "      <td>...</td>\n",
       "      <td>8605.333333</td>\n",
       "      <td>0.941369</td>\n",
       "      <td>5</td>\n",
       "      <td>227019</td>\n",
       "      <td>0.197184</td>\n",
       "      <td>0.175990</td>\n",
       "      <td>330.179140</td>\n",
       "      <td>0.070210</td>\n",
       "      <td>1</td>\n",
       "      <td>NaN</td>\n",
       "    </tr>\n",
       "  </tbody>\n",
       "</table>\n",
       "<p>5 rows × 36 columns</p>\n",
       "</div>"
      ],
      "text/plain": [
       "  ApplicationDate   Age  AnnualIncome  CreditScore EmploymentStatus  \\\n",
       "0      2018-01-01  45.0         39948          617         Employed   \n",
       "1      2018-01-02  38.0         39709          628         Employed   \n",
       "2      2018-01-03  47.0         40724          570         Employed   \n",
       "3      2018-01-04  58.0         69084          545         Employed   \n",
       "4      2018-01-05  37.0        103264          594         Employed   \n",
       "\n",
       "  EducationLevel  Experience  LoanAmount  LoanDuration MaritalStatus  ...  \\\n",
       "0         Master          22       13152            48       Married  ...   \n",
       "1      Associate          15       26045            48        Single  ...   \n",
       "2       Bachelor          26       17627            36       Married  ...   \n",
       "3    High School          34       37898            96        Single  ...   \n",
       "4      Associate          17        9184            36       Married  ...   \n",
       "\n",
       "   MonthlyIncome UtilityBillsPaymentHistory  JobTenure  NetWorth  \\\n",
       "0    3329.000000                   0.724972         11    126928   \n",
       "1    3309.083333                   0.935132          3     43609   \n",
       "2    3393.666667                   0.872241          6      5205   \n",
       "3    5757.000000                   0.896155          5     99452   \n",
       "4    8605.333333                   0.941369          5    227019   \n",
       "\n",
       "   BaseInterestRate  InterestRate  MonthlyLoanPayment  TotalDebtToIncomeRatio  \\\n",
       "0          0.199652      0.227590          419.805992                0.181077   \n",
       "1          0.207045      0.201077          794.054238                0.389852   \n",
       "2          0.217627      0.212548          666.406688                0.462157   \n",
       "3          0.300398      0.300911         1047.506980                0.313098   \n",
       "4          0.197184      0.175990          330.179140                0.070210   \n",
       "\n",
       "  LoanApproved  RiskScore  \n",
       "0            0        NaN  \n",
       "1            0       52.0  \n",
       "2            0        NaN  \n",
       "3            0        NaN  \n",
       "4            1        NaN  \n",
       "\n",
       "[5 rows x 36 columns]"
      ]
     },
     "execution_count": 1,
     "metadata": {},
     "output_type": "execute_result"
    }
   ],
   "source": [
    "import warnings \n",
    "warnings.filterwarnings('ignore')\n",
    "import pandas as pd\n",
    "import numpy as np\n",
    "import matplotlib.pyplot as plt\n",
    "from sklearn.model_selection import train_test_split\n",
    "from sklearn.feature_selection import RFE\n",
    "from sklearn.ensemble import RandomForestClassifier\n",
    "from sklearn.metrics import accuracy_score, f1_score\n",
    "from sklearn.preprocessing import StandardScaler\n",
    "from sklearn.linear_model import LogisticRegression\n",
    "from sklearn.cluster import KMeans\n",
    "from sklearn.datasets import make_classification\n",
    "from sklearn.model_selection import GridSearchCV\n",
    "\n",
    "\n",
    "data = pd.read_csv('/Users/nguyenphucnhuhai/Downloads/nhuhai co lenn/loan_approval.csv')\n",
    "data.head()"
   ]
  },
  {
   "cell_type": "code",
   "execution_count": 2,
   "metadata": {},
   "outputs": [
    {
     "name": "stdout",
     "output_type": "stream",
     "text": [
      "<class 'pandas.core.frame.DataFrame'>\n",
      "RangeIndex: 20000 entries, 0 to 19999\n",
      "Data columns (total 36 columns):\n",
      " #   Column                      Non-Null Count  Dtype  \n",
      "---  ------                      --------------  -----  \n",
      " 0   ApplicationDate             20000 non-null  object \n",
      " 1   Age                         19900 non-null  float64\n",
      " 2   AnnualIncome                20000 non-null  int64  \n",
      " 3   CreditScore                 20000 non-null  int64  \n",
      " 4   EmploymentStatus            20000 non-null  object \n",
      " 5   EducationLevel              20000 non-null  object \n",
      " 6   Experience                  20000 non-null  int64  \n",
      " 7   LoanAmount                  20000 non-null  int64  \n",
      " 8   LoanDuration                20000 non-null  int64  \n",
      " 9   MaritalStatus               19900 non-null  object \n",
      " 10  NumberOfDependents          20000 non-null  int64  \n",
      " 11  HomeOwnershipStatus         20000 non-null  object \n",
      " 12  MonthlyDebtPayments         20000 non-null  int64  \n",
      " 13  CreditCardUtilizationRate   20000 non-null  float64\n",
      " 14  NumberOfOpenCreditLines     20000 non-null  int64  \n",
      " 15  NumberOfCreditInquiries     20000 non-null  int64  \n",
      " 16  DebtToIncomeRatio           20000 non-null  float64\n",
      " 17  BankruptcyHistory           20000 non-null  int64  \n",
      " 18  LoanPurpose                 20000 non-null  object \n",
      " 19  PreviousLoanDefaults        20000 non-null  int64  \n",
      " 20  PaymentHistory              20000 non-null  int64  \n",
      " 21  LengthOfCreditHistory       20000 non-null  int64  \n",
      " 22  SavingsAccountBalance       20000 non-null  int64  \n",
      " 23  CheckingAccountBalance      20000 non-null  int64  \n",
      " 24  TotalAssets                 20000 non-null  int64  \n",
      " 25  TotalLiabilities            20000 non-null  int64  \n",
      " 26  MonthlyIncome               20000 non-null  float64\n",
      " 27  UtilityBillsPaymentHistory  20000 non-null  float64\n",
      " 28  JobTenure                   20000 non-null  int64  \n",
      " 29  NetWorth                    20000 non-null  int64  \n",
      " 30  BaseInterestRate            20000 non-null  float64\n",
      " 31  InterestRate                20000 non-null  float64\n",
      " 32  MonthlyLoanPayment          20000 non-null  float64\n",
      " 33  TotalDebtToIncomeRatio      20000 non-null  float64\n",
      " 34  LoanApproved                20000 non-null  int64  \n",
      " 35  RiskScore                   1000 non-null   float64\n",
      "dtypes: float64(10), int64(20), object(6)\n",
      "memory usage: 5.5+ MB\n"
     ]
    }
   ],
   "source": [
    "data.info()"
   ]
  },
  {
   "cell_type": "code",
   "execution_count": 3,
   "metadata": {},
   "outputs": [
    {
     "data": {
      "text/html": [
       "<div>\n",
       "<style scoped>\n",
       "    .dataframe tbody tr th:only-of-type {\n",
       "        vertical-align: middle;\n",
       "    }\n",
       "\n",
       "    .dataframe tbody tr th {\n",
       "        vertical-align: top;\n",
       "    }\n",
       "\n",
       "    .dataframe thead th {\n",
       "        text-align: right;\n",
       "    }\n",
       "</style>\n",
       "<table border=\"1\" class=\"dataframe\">\n",
       "  <thead>\n",
       "    <tr style=\"text-align: right;\">\n",
       "      <th></th>\n",
       "      <th>ApplicationDate</th>\n",
       "      <th>Age</th>\n",
       "      <th>AnnualIncome</th>\n",
       "      <th>CreditScore</th>\n",
       "      <th>EmploymentStatus</th>\n",
       "      <th>EducationLevel</th>\n",
       "      <th>Experience</th>\n",
       "      <th>LoanAmount</th>\n",
       "      <th>LoanDuration</th>\n",
       "      <th>MaritalStatus</th>\n",
       "      <th>...</th>\n",
       "      <th>MonthlyIncome</th>\n",
       "      <th>UtilityBillsPaymentHistory</th>\n",
       "      <th>JobTenure</th>\n",
       "      <th>NetWorth</th>\n",
       "      <th>BaseInterestRate</th>\n",
       "      <th>InterestRate</th>\n",
       "      <th>MonthlyLoanPayment</th>\n",
       "      <th>TotalDebtToIncomeRatio</th>\n",
       "      <th>LoanApproved</th>\n",
       "      <th>RiskScore</th>\n",
       "    </tr>\n",
       "  </thead>\n",
       "  <tbody>\n",
       "    <tr>\n",
       "      <th>count</th>\n",
       "      <td>20000</td>\n",
       "      <td>19900.000000</td>\n",
       "      <td>20000.000000</td>\n",
       "      <td>20000.000000</td>\n",
       "      <td>20000</td>\n",
       "      <td>20000</td>\n",
       "      <td>20000.000000</td>\n",
       "      <td>20000.000000</td>\n",
       "      <td>20000.000000</td>\n",
       "      <td>19900</td>\n",
       "      <td>...</td>\n",
       "      <td>20000.000000</td>\n",
       "      <td>20000.000000</td>\n",
       "      <td>20000.000000</td>\n",
       "      <td>2.000000e+04</td>\n",
       "      <td>20000.000000</td>\n",
       "      <td>20000.000000</td>\n",
       "      <td>20000.000000</td>\n",
       "      <td>20000.000000</td>\n",
       "      <td>20000.000000</td>\n",
       "      <td>1000.000000</td>\n",
       "    </tr>\n",
       "    <tr>\n",
       "      <th>unique</th>\n",
       "      <td>20000</td>\n",
       "      <td>NaN</td>\n",
       "      <td>NaN</td>\n",
       "      <td>NaN</td>\n",
       "      <td>3</td>\n",
       "      <td>5</td>\n",
       "      <td>NaN</td>\n",
       "      <td>NaN</td>\n",
       "      <td>NaN</td>\n",
       "      <td>4</td>\n",
       "      <td>...</td>\n",
       "      <td>NaN</td>\n",
       "      <td>NaN</td>\n",
       "      <td>NaN</td>\n",
       "      <td>NaN</td>\n",
       "      <td>NaN</td>\n",
       "      <td>NaN</td>\n",
       "      <td>NaN</td>\n",
       "      <td>NaN</td>\n",
       "      <td>NaN</td>\n",
       "      <td>NaN</td>\n",
       "    </tr>\n",
       "    <tr>\n",
       "      <th>top</th>\n",
       "      <td>2018-01-01</td>\n",
       "      <td>NaN</td>\n",
       "      <td>NaN</td>\n",
       "      <td>NaN</td>\n",
       "      <td>Employed</td>\n",
       "      <td>Bachelor</td>\n",
       "      <td>NaN</td>\n",
       "      <td>NaN</td>\n",
       "      <td>NaN</td>\n",
       "      <td>Married</td>\n",
       "      <td>...</td>\n",
       "      <td>NaN</td>\n",
       "      <td>NaN</td>\n",
       "      <td>NaN</td>\n",
       "      <td>NaN</td>\n",
       "      <td>NaN</td>\n",
       "      <td>NaN</td>\n",
       "      <td>NaN</td>\n",
       "      <td>NaN</td>\n",
       "      <td>NaN</td>\n",
       "      <td>NaN</td>\n",
       "    </tr>\n",
       "    <tr>\n",
       "      <th>freq</th>\n",
       "      <td>1</td>\n",
       "      <td>NaN</td>\n",
       "      <td>NaN</td>\n",
       "      <td>NaN</td>\n",
       "      <td>17036</td>\n",
       "      <td>6054</td>\n",
       "      <td>NaN</td>\n",
       "      <td>NaN</td>\n",
       "      <td>NaN</td>\n",
       "      <td>9999</td>\n",
       "      <td>...</td>\n",
       "      <td>NaN</td>\n",
       "      <td>NaN</td>\n",
       "      <td>NaN</td>\n",
       "      <td>NaN</td>\n",
       "      <td>NaN</td>\n",
       "      <td>NaN</td>\n",
       "      <td>NaN</td>\n",
       "      <td>NaN</td>\n",
       "      <td>NaN</td>\n",
       "      <td>NaN</td>\n",
       "    </tr>\n",
       "    <tr>\n",
       "      <th>mean</th>\n",
       "      <td>NaN</td>\n",
       "      <td>39.751759</td>\n",
       "      <td>59161.473550</td>\n",
       "      <td>571.612400</td>\n",
       "      <td>NaN</td>\n",
       "      <td>NaN</td>\n",
       "      <td>17.522750</td>\n",
       "      <td>24882.867800</td>\n",
       "      <td>54.057000</td>\n",
       "      <td>NaN</td>\n",
       "      <td>...</td>\n",
       "      <td>4891.715521</td>\n",
       "      <td>0.799918</td>\n",
       "      <td>5.002650</td>\n",
       "      <td>7.229432e+04</td>\n",
       "      <td>0.239124</td>\n",
       "      <td>0.239110</td>\n",
       "      <td>911.607052</td>\n",
       "      <td>0.402182</td>\n",
       "      <td>0.239000</td>\n",
       "      <td>50.687600</td>\n",
       "    </tr>\n",
       "    <tr>\n",
       "      <th>std</th>\n",
       "      <td>NaN</td>\n",
       "      <td>11.630809</td>\n",
       "      <td>40350.845168</td>\n",
       "      <td>50.997358</td>\n",
       "      <td>NaN</td>\n",
       "      <td>NaN</td>\n",
       "      <td>11.316836</td>\n",
       "      <td>13427.421217</td>\n",
       "      <td>24.664857</td>\n",
       "      <td>NaN</td>\n",
       "      <td>...</td>\n",
       "      <td>3296.771598</td>\n",
       "      <td>0.120665</td>\n",
       "      <td>2.236804</td>\n",
       "      <td>1.179200e+05</td>\n",
       "      <td>0.035509</td>\n",
       "      <td>0.042205</td>\n",
       "      <td>674.583473</td>\n",
       "      <td>0.338924</td>\n",
       "      <td>0.426483</td>\n",
       "      <td>7.881033</td>\n",
       "    </tr>\n",
       "    <tr>\n",
       "      <th>min</th>\n",
       "      <td>NaN</td>\n",
       "      <td>18.000000</td>\n",
       "      <td>15000.000000</td>\n",
       "      <td>343.000000</td>\n",
       "      <td>NaN</td>\n",
       "      <td>NaN</td>\n",
       "      <td>0.000000</td>\n",
       "      <td>3674.000000</td>\n",
       "      <td>12.000000</td>\n",
       "      <td>NaN</td>\n",
       "      <td>...</td>\n",
       "      <td>1250.000000</td>\n",
       "      <td>0.259203</td>\n",
       "      <td>0.000000</td>\n",
       "      <td>1.000000e+03</td>\n",
       "      <td>0.130101</td>\n",
       "      <td>0.113310</td>\n",
       "      <td>97.030193</td>\n",
       "      <td>0.016043</td>\n",
       "      <td>0.000000</td>\n",
       "      <td>30.400000</td>\n",
       "    </tr>\n",
       "    <tr>\n",
       "      <th>25%</th>\n",
       "      <td>NaN</td>\n",
       "      <td>31.750000</td>\n",
       "      <td>31679.000000</td>\n",
       "      <td>540.000000</td>\n",
       "      <td>NaN</td>\n",
       "      <td>NaN</td>\n",
       "      <td>9.000000</td>\n",
       "      <td>15575.000000</td>\n",
       "      <td>36.000000</td>\n",
       "      <td>NaN</td>\n",
       "      <td>...</td>\n",
       "      <td>2629.583333</td>\n",
       "      <td>0.727379</td>\n",
       "      <td>3.000000</td>\n",
       "      <td>8.734750e+03</td>\n",
       "      <td>0.213889</td>\n",
       "      <td>0.209142</td>\n",
       "      <td>493.763700</td>\n",
       "      <td>0.179693</td>\n",
       "      <td>0.000000</td>\n",
       "      <td>46.000000</td>\n",
       "    </tr>\n",
       "    <tr>\n",
       "      <th>50%</th>\n",
       "      <td>NaN</td>\n",
       "      <td>40.000000</td>\n",
       "      <td>48566.000000</td>\n",
       "      <td>578.000000</td>\n",
       "      <td>NaN</td>\n",
       "      <td>NaN</td>\n",
       "      <td>17.000000</td>\n",
       "      <td>21914.500000</td>\n",
       "      <td>48.000000</td>\n",
       "      <td>NaN</td>\n",
       "      <td>...</td>\n",
       "      <td>4034.750000</td>\n",
       "      <td>0.820962</td>\n",
       "      <td>5.000000</td>\n",
       "      <td>3.285550e+04</td>\n",
       "      <td>0.236157</td>\n",
       "      <td>0.235390</td>\n",
       "      <td>728.511452</td>\n",
       "      <td>0.302711</td>\n",
       "      <td>0.000000</td>\n",
       "      <td>52.000000</td>\n",
       "    </tr>\n",
       "    <tr>\n",
       "      <th>75%</th>\n",
       "      <td>NaN</td>\n",
       "      <td>48.000000</td>\n",
       "      <td>74391.000000</td>\n",
       "      <td>609.000000</td>\n",
       "      <td>NaN</td>\n",
       "      <td>NaN</td>\n",
       "      <td>25.000000</td>\n",
       "      <td>30835.000000</td>\n",
       "      <td>72.000000</td>\n",
       "      <td>NaN</td>\n",
       "      <td>...</td>\n",
       "      <td>6163.000000</td>\n",
       "      <td>0.892333</td>\n",
       "      <td>6.000000</td>\n",
       "      <td>8.882550e+04</td>\n",
       "      <td>0.261533</td>\n",
       "      <td>0.265532</td>\n",
       "      <td>1112.770759</td>\n",
       "      <td>0.509214</td>\n",
       "      <td>0.000000</td>\n",
       "      <td>56.000000</td>\n",
       "    </tr>\n",
       "    <tr>\n",
       "      <th>max</th>\n",
       "      <td>NaN</td>\n",
       "      <td>80.000000</td>\n",
       "      <td>485341.000000</td>\n",
       "      <td>712.000000</td>\n",
       "      <td>NaN</td>\n",
       "      <td>NaN</td>\n",
       "      <td>61.000000</td>\n",
       "      <td>184732.000000</td>\n",
       "      <td>120.000000</td>\n",
       "      <td>NaN</td>\n",
       "      <td>...</td>\n",
       "      <td>25000.000000</td>\n",
       "      <td>0.999433</td>\n",
       "      <td>16.000000</td>\n",
       "      <td>2.603208e+06</td>\n",
       "      <td>0.405029</td>\n",
       "      <td>0.446787</td>\n",
       "      <td>10892.629520</td>\n",
       "      <td>4.647657</td>\n",
       "      <td>1.000000</td>\n",
       "      <td>77.000000</td>\n",
       "    </tr>\n",
       "  </tbody>\n",
       "</table>\n",
       "<p>11 rows × 36 columns</p>\n",
       "</div>"
      ],
      "text/plain": [
       "       ApplicationDate           Age   AnnualIncome   CreditScore  \\\n",
       "count            20000  19900.000000   20000.000000  20000.000000   \n",
       "unique           20000           NaN            NaN           NaN   \n",
       "top         2018-01-01           NaN            NaN           NaN   \n",
       "freq                 1           NaN            NaN           NaN   \n",
       "mean               NaN     39.751759   59161.473550    571.612400   \n",
       "std                NaN     11.630809   40350.845168     50.997358   \n",
       "min                NaN     18.000000   15000.000000    343.000000   \n",
       "25%                NaN     31.750000   31679.000000    540.000000   \n",
       "50%                NaN     40.000000   48566.000000    578.000000   \n",
       "75%                NaN     48.000000   74391.000000    609.000000   \n",
       "max                NaN     80.000000  485341.000000    712.000000   \n",
       "\n",
       "       EmploymentStatus EducationLevel    Experience     LoanAmount  \\\n",
       "count             20000          20000  20000.000000   20000.000000   \n",
       "unique                3              5           NaN            NaN   \n",
       "top            Employed       Bachelor           NaN            NaN   \n",
       "freq              17036           6054           NaN            NaN   \n",
       "mean                NaN            NaN     17.522750   24882.867800   \n",
       "std                 NaN            NaN     11.316836   13427.421217   \n",
       "min                 NaN            NaN      0.000000    3674.000000   \n",
       "25%                 NaN            NaN      9.000000   15575.000000   \n",
       "50%                 NaN            NaN     17.000000   21914.500000   \n",
       "75%                 NaN            NaN     25.000000   30835.000000   \n",
       "max                 NaN            NaN     61.000000  184732.000000   \n",
       "\n",
       "        LoanDuration MaritalStatus  ...  MonthlyIncome  \\\n",
       "count   20000.000000         19900  ...   20000.000000   \n",
       "unique           NaN             4  ...            NaN   \n",
       "top              NaN       Married  ...            NaN   \n",
       "freq             NaN          9999  ...            NaN   \n",
       "mean       54.057000           NaN  ...    4891.715521   \n",
       "std        24.664857           NaN  ...    3296.771598   \n",
       "min        12.000000           NaN  ...    1250.000000   \n",
       "25%        36.000000           NaN  ...    2629.583333   \n",
       "50%        48.000000           NaN  ...    4034.750000   \n",
       "75%        72.000000           NaN  ...    6163.000000   \n",
       "max       120.000000           NaN  ...   25000.000000   \n",
       "\n",
       "       UtilityBillsPaymentHistory     JobTenure      NetWorth  \\\n",
       "count                20000.000000  20000.000000  2.000000e+04   \n",
       "unique                        NaN           NaN           NaN   \n",
       "top                           NaN           NaN           NaN   \n",
       "freq                          NaN           NaN           NaN   \n",
       "mean                     0.799918      5.002650  7.229432e+04   \n",
       "std                      0.120665      2.236804  1.179200e+05   \n",
       "min                      0.259203      0.000000  1.000000e+03   \n",
       "25%                      0.727379      3.000000  8.734750e+03   \n",
       "50%                      0.820962      5.000000  3.285550e+04   \n",
       "75%                      0.892333      6.000000  8.882550e+04   \n",
       "max                      0.999433     16.000000  2.603208e+06   \n",
       "\n",
       "        BaseInterestRate  InterestRate  MonthlyLoanPayment  \\\n",
       "count       20000.000000  20000.000000        20000.000000   \n",
       "unique               NaN           NaN                 NaN   \n",
       "top                  NaN           NaN                 NaN   \n",
       "freq                 NaN           NaN                 NaN   \n",
       "mean            0.239124      0.239110          911.607052   \n",
       "std             0.035509      0.042205          674.583473   \n",
       "min             0.130101      0.113310           97.030193   \n",
       "25%             0.213889      0.209142          493.763700   \n",
       "50%             0.236157      0.235390          728.511452   \n",
       "75%             0.261533      0.265532         1112.770759   \n",
       "max             0.405029      0.446787        10892.629520   \n",
       "\n",
       "        TotalDebtToIncomeRatio  LoanApproved    RiskScore  \n",
       "count             20000.000000  20000.000000  1000.000000  \n",
       "unique                     NaN           NaN          NaN  \n",
       "top                        NaN           NaN          NaN  \n",
       "freq                       NaN           NaN          NaN  \n",
       "mean                  0.402182      0.239000    50.687600  \n",
       "std                   0.338924      0.426483     7.881033  \n",
       "min                   0.016043      0.000000    30.400000  \n",
       "25%                   0.179693      0.000000    46.000000  \n",
       "50%                   0.302711      0.000000    52.000000  \n",
       "75%                   0.509214      0.000000    56.000000  \n",
       "max                   4.647657      1.000000    77.000000  \n",
       "\n",
       "[11 rows x 36 columns]"
      ]
     },
     "execution_count": 3,
     "metadata": {},
     "output_type": "execute_result"
    }
   ],
   "source": [
    "data.describe(include=\"all\")"
   ]
  },
  {
   "cell_type": "markdown",
   "metadata": {},
   "source": [
    "## Task 1: Clean the datasets (10 marks)"
   ]
  },
  {
   "cell_type": "markdown",
   "metadata": {},
   "source": [
    "### Step 1.1 Handle the missing values with follwoing rules (5 marks)\n",
    "1. If over 50% of the values of a column, the column should be removed from the data frame; \n",
    "2. For a categorical column, if a row contains a missing value, you need to delete the whole row; \n",
    "3. For a numerical column, if a row contains a missing value, you need to perform a missing value imputation with the average value of the column."
   ]
  },
  {
   "cell_type": "code",
   "execution_count": 4,
   "metadata": {},
   "outputs": [
    {
     "data": {
      "text/plain": [
       "(20000, 35)"
      ]
     },
     "execution_count": 4,
     "metadata": {},
     "output_type": "execute_result"
    }
   ],
   "source": [
    "# 1. Drop 50% null values's columns\n",
    "drop_col = []\n",
    "for column in data.columns:\n",
    "    null_col = data[column].isnull().mean()*100\n",
    "    if null_col > 50:\n",
    "        drop_col.append(column)\n",
    "data.drop(columns = drop_col, inplace = True)\n",
    "data.shape"
   ]
  },
  {
   "cell_type": "code",
   "execution_count": 5,
   "metadata": {},
   "outputs": [
    {
     "data": {
      "text/plain": [
       "(19900, 35)"
      ]
     },
     "execution_count": 5,
     "metadata": {},
     "output_type": "execute_result"
    }
   ],
   "source": [
    "#2. Categorical - delete if rows contain missing values\n",
    "cat_col =data.select_dtypes(include='object').columns\n",
    "data = data.dropna(subset=cat_col)\n",
    "data.shape"
   ]
  },
  {
   "cell_type": "code",
   "execution_count": 6,
   "metadata": {},
   "outputs": [
    {
     "data": {
      "text/plain": [
       "(19900, 35)"
      ]
     },
     "execution_count": 6,
     "metadata": {},
     "output_type": "execute_result"
    }
   ],
   "source": [
    "#3. Numerical - use data imputation (mean)\n",
    "num_col = data.select_dtypes(include =['int64','float64'])\n",
    "num_col.dtypes\n",
    "for column in num_col:\n",
    "    data[column] = data[column].fillna(data[column].mean())\n",
    "data.shape"
   ]
  },
  {
   "cell_type": "markdown",
   "metadata": {},
   "source": [
    "### Step 1.2 Handle categorical attributes (5 marks)\n",
    "1. If all the categorical values of a column are unique, this column does not provide any statistical informaiton and should be deleted.\n",
    "2. Use one hot encoding to convert the categorical values into numerical ones."
   ]
  },
  {
   "cell_type": "code",
   "execution_count": 8,
   "metadata": {},
   "outputs": [
    {
     "data": {
      "text/plain": [
       "Index(['ApplicationDate'], dtype='object')"
      ]
     },
     "execution_count": 8,
     "metadata": {},
     "output_type": "execute_result"
    }
   ],
   "source": [
    "cat_col = data.select_dtypes(include='object')\n",
    "\n",
    "unique_cols = cat_col.columns[cat_col.nunique() == len(cat_col)]\n",
    "unique_cols"
   ]
  },
  {
   "cell_type": "code",
   "execution_count": 31,
   "metadata": {},
   "outputs": [
    {
     "data": {
      "text/plain": [
       "(19900, 34)"
      ]
     },
     "execution_count": 31,
     "metadata": {},
     "output_type": "execute_result"
    }
   ],
   "source": [
    "#1. Delete the unique column\n",
    "cat_col = data.select_dtypes(include='object')\n",
    "\n",
    "unique_cols = cat_col.columns[cat_col.nunique() == len(cat_col)]\n",
    "\n",
    "data = data.drop(columns=unique_cols)\n",
    "data.shape"
   ]
  },
  {
   "cell_type": "code",
   "execution_count": 32,
   "metadata": {},
   "outputs": [
    {
     "data": {
      "text/plain": [
       "(    Age  AnnualIncome  CreditScore  Experience  LoanAmount  LoanDuration  \\\n",
       " 0  45.0         39948          617          22       13152            48   \n",
       " 1  38.0         39709          628          15       26045            48   \n",
       " 2  47.0         40724          570          26       17627            36   \n",
       " 3  58.0         69084          545          34       37898            96   \n",
       " 4  37.0        103264          594          17        9184            36   \n",
       " \n",
       "    NumberOfDependents  MonthlyDebtPayments  CreditCardUtilizationRate  \\\n",
       " 0                   2                  183                   0.354418   \n",
       " 1                   1                  496                   0.087827   \n",
       " 2                   2                  902                   0.137414   \n",
       " 3                   1                  755                   0.267587   \n",
       " 4                   1                  274                   0.320535   \n",
       " \n",
       "    NumberOfOpenCreditLines  ...  MaritalStatus_Married  MaritalStatus_Single  \\\n",
       " 0                        1  ...                   True                 False   \n",
       " 1                        5  ...                  False                  True   \n",
       " 2                        2  ...                   True                 False   \n",
       " 3                        2  ...                  False                  True   \n",
       " 4                        0  ...                   True                 False   \n",
       " \n",
       "    MaritalStatus_Widowed  HomeOwnershipStatus_Other  HomeOwnershipStatus_Own  \\\n",
       " 0                  False                      False                     True   \n",
       " 1                  False                      False                    False   \n",
       " 2                  False                      False                    False   \n",
       " 3                  False                      False                    False   \n",
       " 4                  False                      False                    False   \n",
       " \n",
       "    HomeOwnershipStatus_Rent  LoanPurpose_Debt Consolidation  \\\n",
       " 0                     False                           False   \n",
       " 1                     False                            True   \n",
       " 2                      True                           False   \n",
       " 3                     False                           False   \n",
       " 4                     False                            True   \n",
       " \n",
       "    LoanPurpose_Education  LoanPurpose_Home  LoanPurpose_Other  \n",
       " 0                  False              True              False  \n",
       " 1                  False             False              False  \n",
       " 2                   True             False              False  \n",
       " 3                  False              True              False  \n",
       " 4                  False             False              False  \n",
       " \n",
       " [5 rows x 45 columns],\n",
       " (19900, 45))"
      ]
     },
     "execution_count": 32,
     "metadata": {},
     "output_type": "execute_result"
    }
   ],
   "source": [
    "# 2. Apply one-hot encoding to the remaining categorical columns\n",
    "data = pd.get_dummies(data, drop_first=True)\n",
    "\n",
    "# Check\n",
    "data.head(), data.shape"
   ]
  },
  {
   "cell_type": "markdown",
   "metadata": {},
   "source": [
    "## Task 2: Build a logistic regression classification model (25 marks)"
   ]
  },
  {
   "cell_type": "markdown",
   "metadata": {},
   "source": [
    "### Step 2.1 Specify the features and the label, and split the dataset into training data and testing data (5 marks)\n",
    "1. The attirbute \"LoanApproved\" is the label, which is the prediction target. The remaining attributes are the features.\n",
    "2. The ratio for splitting the dataset is 80% for training and 20% for testing. Note that you need to set the \"random_state\" parameter as your student ID to produce your personlised splitting. Failing to do so will lose marks."
   ]
  },
  {
   "cell_type": "code",
   "execution_count": 33,
   "metadata": {},
   "outputs": [],
   "source": [
    "# 1. Assign X and y for train and test data\n",
    "X = data.drop(columns = 'LoanApproved')\n",
    "y = data['LoanApproved']"
   ]
  },
  {
   "cell_type": "code",
   "execution_count": 34,
   "metadata": {},
   "outputs": [
    {
     "data": {
      "text/plain": [
       "(((15920, 44), (3980, 44)), ((15920,), (3980,)))"
      ]
     },
     "execution_count": 34,
     "metadata": {},
     "output_type": "execute_result"
    }
   ],
   "source": [
    "# 2. Split data \n",
    "X_train, X_test, y_train, y_test = train_test_split(X, y, test_size = 0.2, random_state = 48038342)\n",
    "\n",
    "# Check train and test data shape\n",
    "(X_train.shape, X_test.shape), (y_train.shape, y_test.shape)"
   ]
  },
  {
   "cell_type": "markdown",
   "metadata": {},
   "source": [
    "### Step 2.2 Build a logistic regression model (10 marks)\n",
    "1. Train a logistic regression model\n",
    "2. Report two classification performance metrics (accuracy and f1-score) on the testing data\n",
    "3. Also report the two metrics on the training data, and compare the results with that of the testing data. Make a justification on whether the model is overfitting based on the comparison."
   ]
  },
  {
   "cell_type": "code",
   "execution_count": 35,
   "metadata": {},
   "outputs": [
    {
     "name": "stdout",
     "output_type": "stream",
     "text": [
      "The result of accuracy score on training data is: 0.8915829145728643\n",
      "The result of f1 score on training data is: 0.7601445247359644\n",
      "\n",
      "\n",
      "The result of accuracy score on testing data is: 0.8804020100502512\n",
      "The result of f1 score on testing data is: 0.7251732101616628\n"
     ]
    }
   ],
   "source": [
    "# 1.Train logistic regression\n",
    "model = LogisticRegression() \n",
    "model.fit(X_train, y_train)\n",
    "\n",
    "y_train_pred = model.predict(X_train)\n",
    "y_test_pred = model.predict(X_test)\n",
    "\n",
    "# 2. Outcomes metrics on testing data\n",
    "test_accuracy = accuracy_score(y_test, y_test_pred)\n",
    "test_f1 = f1_score(y_test, y_test_pred)\n",
    "\n",
    "# 3. Outcomes metrics on training data\n",
    "train_accuracy = accuracy_score(y_train, y_train_pred)\n",
    "train_f1 = f1_score(y_train, y_train_pred)\n",
    "\n",
    "print('The result of accuracy score on training data is:',train_accuracy)\n",
    "print('The result of f1 score on training data is:',train_f1)\n",
    "print('\\n')\n",
    "print('The result of accuracy score on testing data is:',test_accuracy)\n",
    "print('The result of f1 score on testing data is:',test_f1)"
   ]
  },
  {
   "cell_type": "markdown",
   "metadata": {},
   "source": [
    "## Comment two metrics results on training and testing data\n",
    "- ### Training data\n",
    "  1. Accuracy score: 0.8915829145728643\n",
    "  2. F1 score: 0.7601445247359644\n",
    "\n",
    "- ### Testing data\n",
    "  1. Accuracy score: 0.8804020100502512\n",
    "  2. F1 score: 0.7251732101616628\n",
    " \n",
    "### Accuracy score: \n",
    "- The accuracy in training data is slightly higher compared to that for testing data (the gap is quite small) with 89.16% and 88.04%, which indicating that the model performs well to unseen data and is not significant overfitting.\n",
    "\n",
    "### F1 score:\n",
    "- F1 score in training data is also greater than testing data with 76.01% and 72.25%, suggesting that the model is balanced precision and recall. Although the f1 score is moderate high, it doesn't show any overfitting signal as the result gap on both data is not large.\n",
    "\n",
    "### => Not overfitting:\n",
    "Following the previous comparisionm it is clearly stated that this model geneialized very well and there is no significant overfitting as the training and testing metrics are quite close."
   ]
  },
  {
   "cell_type": "markdown",
   "metadata": {},
   "source": [
    "### Step 2.3 Perform the recursive feature elimination (RFE) technique to identify the effective features for building the model (10 marks)\n",
    "1. Visulise the change of the two performance metrics with respect to the number of eliminated features using a line chart.\n",
    "2. In terms of the visualisation result, select a good value for the number of eliminated features with considering both performance maximisation and feature minimisation (two competing goals). Run the RFE again with the chosen number of eliminated features to obtain the corresponding set of retained features."
   ]
  },
  {
   "cell_type": "code",
   "execution_count": 36,
   "metadata": {},
   "outputs": [],
   "source": [
    "step_size = 1\n",
    "accuracy_scores = []\n",
    "f1_scores = []\n",
    "\n",
    "# Set up the range for the number of retained features\n",
    "num_features_list = range(X_train.shape[1], 0, -step_size)"
   ]
  },
  {
   "cell_type": "code",
   "execution_count": 37,
   "metadata": {},
   "outputs": [],
   "source": [
    " # Perform RFE in larger steps\n",
    "for num_features in num_features_list:\n",
    "    rfe = RFE(estimator=model, n_features_to_select=num_features)\n",
    "    rfe.fit(X_train, y_train)\n",
    "    \n",
    "    X_train_rfe = rfe.transform(X_train)\n",
    "    X_test_rfe = rfe.transform(X_test)\n",
    "    \n",
    "    model.fit(X_train_rfe, y_train)\n",
    "    \n",
    "    y_test_pred_rfe = model.predict(X_test_rfe)\n",
    "    \n",
    "    accuracy_scores.append(accuracy_score(y_test, y_test_pred_rfe))\n",
    "    f1_scores.append(f1_score(y_test, y_test_pred_rfe))"
   ]
  },
  {
   "cell_type": "code",
   "execution_count": 38,
   "metadata": {},
   "outputs": [
    {
     "data": {
      "image/png": "[encoded data removed]",
      "text/plain": [
       "<Figure size 1000x500 with 1 Axes>"
      ]
     },
     "metadata": {},
     "output_type": "display_data"
    }
   ],
   "source": [
    "# Plot Accuracy and F1-Score and number of retained values\n",
    "plt.figure(figsize=(10, 5))\n",
    "plt.plot(num_features_list, accuracy_scores, marker='o', label='Accuracy')\n",
    "plt.plot(num_features_list, f1_scores, marker='o', label='F1 Score')\n",
    "plt.xlabel('Number of Retained Features')\n",
    "plt.ylabel('Metric Score')\n",
    "plt.title('Performance Metrics vs Number of Retained Features')\n",
    "plt.legend()\n",
    "plt.grid()\n",
    "plt.show()"
   ]
  },
  {
   "cell_type": "code",
   "execution_count": 39,
   "metadata": {},
   "outputs": [
    {
     "name": "stdout",
     "output_type": "stream",
     "text": [
      "Performance on training set - Accuracy: 0.8880653266331658, F1 Score: 0.747949080622348\n",
      "Performance on testing set - Accuracy: 0.8824120603015075, F1 Score: 0.7256740914419695\n"
     ]
    }
   ],
   "source": [
    "rfe = RFE(estimator=model, n_features_to_select=13)\n",
    "\n",
    "rfe.fit(X_train, y_train)\n",
    "\n",
    "selected_features = X.columns[rfe.support_]\n",
    "\n",
    "model.fit(X_train[selected_features], y_train)\n",
    "\n",
    "# Predict on the test set\n",
    "y_pred_train = model.predict(X_train[selected_features])\n",
    "y_pred_test = model.predict(X_test[selected_features])\n",
    "\n",
    "# Calculate performance metrics\n",
    "accuracy_train = accuracy_score(y_train, y_pred_train)\n",
    "f1_train = f1_score(y_train, y_pred_train)\n",
    "\n",
    "accuracy_test = accuracy_score(y_test, y_pred_test)\n",
    "f1_test = f1_score(y_test, y_pred_test)\n",
    "\n",
    "print(f\"Performance on training set - Accuracy: {accuracy_train}, F1 Score: {f1_train}\")\n",
    "print(f\"Performance on testing set - Accuracy: {accuracy_test}, F1 Score: {f1_test}\")"
   ]
  },
  {
   "cell_type": "markdown",
   "metadata": {},
   "source": [
    "## Task 3: Build a KNN classification model (25 marks)"
   ]
  },
  {
   "cell_type": "markdown",
   "metadata": {},
   "source": [
    "### Step 3.1 Build 1-NN classifier (5 marks)\n",
    "1. Select the features identifed in Step 2.3 for this task\n",
    "2. Buid 1-NN classifier and report two classification performance metrics (accuracy and f1-score) on the testing data\n",
    "3. Also report the two metrics on the training data, and compare the results with that of the testing data. Make a justification on whether the model is overfitting based on the comparison."
   ]
  },
  {
   "cell_type": "code",
   "execution_count": 40,
   "metadata": {},
   "outputs": [
    {
     "data": {
      "text/plain": [
       "(((15920, 13), (3980, 13)), ((15920,), (3980,)))"
      ]
     },
     "execution_count": 40,
     "metadata": {},
     "output_type": "execute_result"
    }
   ],
   "source": [
    "# 1. Select the retained features and split dataset on new chosen features\n",
    "X1 = data[selected_features]\n",
    "X_train, X_test, y_train, y_test = train_test_split(X1, y, test_size = 0.2, random_state = 48038342)\n",
    "(X_train.shape, X_test.shape), (y_train.shape, y_test.shape)"
   ]
  },
  {
   "cell_type": "code",
   "execution_count": 41,
   "metadata": {},
   "outputs": [
    {
     "name": "stdout",
     "output_type": "stream",
     "text": [
      "Accuracy score on testing data is: 0.8173366834170854\n",
      "F1_score on testing data is: 0.6147323794382619\n",
      "\n",
      "\n",
      "Accuracy score on training data is: 1.0\n",
      "F1_score on training data is: 1.0\n"
     ]
    }
   ],
   "source": [
    "# 2. Build 1-NN classifier\n",
    "from sklearn.neighbors import KNeighborsClassifier\n",
    "knn = KNeighborsClassifier(n_neighbors = 1)\n",
    "knn.fit(X_train, y_train)\n",
    "y_pred_test = knn.predict(X_test)\n",
    "y_pred_train = knn.predict(X_train)\n",
    "\n",
    "#3. Metrics on training and testing data\n",
    "accuracy_test= accuracy_score(y_test, y_pred_test)\n",
    "f1_test = f1_score(y_test, y_pred_test)\n",
    "\n",
    "accuracy_train = accuracy_score(y_train, y_pred_train)\n",
    "f1_train = f1_score(y_train, y_pred_train)\n",
    "\n",
    "print('Accuracy score on testing data is:',accuracy_test)\n",
    "print('F1_score on testing data is:',f1_test)\n",
    "print(\"\\n\")\n",
    "print('Accuracy score on training data is:',accuracy_train)\n",
    "print('F1_score on training data is:',f1_train)"
   ]
  },
  {
   "cell_type": "markdown",
   "metadata": {},
   "source": [
    "### Comment on two metrics of accuracy and f1 score:\n",
    " ### Training data\n",
    "  1. Accuracy score: 1.0\n",
    "  2. F1 score: 1.0\n",
    "- The model performs perfectly on the training data without any errors as the results of accuracy and f1 score is perfectly 1.\n",
    "\n",
    " ### Testing data\n",
    "  1. Accuracy score: 0.8173366834170854\n",
    "  2. F1 score: 0.6147323794382619\n",
    "- However, compared to the training data results, metrics on testing data is significant low, especially F1 score with 0.614%.\n",
    "\n",
    " ### Overfitting Indication:\n",
    "The perfect performance on the training data, combined with significantly lower performance on the testing data, is a clear indication of overfitting, resulting in poor generalization on unseen data\n"
   ]
  },
  {
   "cell_type": "markdown",
   "metadata": {},
   "source": [
    "### Step 3.2 Use the grid search and cross validation techniques to study the performance change with respect to the hyperparameter K (10 marks)\n",
    "1. User grid search to search K in the range (1, 30) both inclusive with 5-fold cross validation. The performance metric used for search is accuracy.\n",
    "2. Visualise the performance change with respect to K using a line chart. Report the two performance metrics for the best case."
   ]
  },
  {
   "cell_type": "code",
   "execution_count": 42,
   "metadata": {},
   "outputs": [],
   "source": [
    "# 1. Use gridsearch to search K\n",
    "param_grid = {'n_neighbors': range(1, 30)}  # Search K from 1 to 30\n",
    "knn = KNeighborsClassifier()\n",
    "grid_search = GridSearchCV(knn, param_grid, cv=5, scoring='accuracy')\n",
    "grid_search.fit(X_train, y_train)\n",
    "\n",
    "# Create results DataFrame\n",
    "results = pd.DataFrame(grid_search.cv_results_)"
   ]
  },
  {
   "cell_type": "code",
   "execution_count": 43,
   "metadata": {},
   "outputs": [
    {
     "data": {
      "image/png": "[encoded data removed]",
      "text/plain": [
       "<Figure size 1000x600 with 1 Axes>"
      ]
     },
     "metadata": {},
     "output_type": "display_data"
    }
   ],
   "source": [
    "# 2. Visualize the performance change with respect to K\n",
    "plt.figure(figsize=(10, 6))\n",
    "plt.plot(results['param_n_neighbors'], results['mean_test_score'], marker='o', linestyle='-')\n",
    "plt.title('K-NN Classifier Accuracy vs. K', fontsize=16)\n",
    "plt.xlabel('Number of Neighbors (K)', fontsize=14)\n",
    "plt.ylabel('Mean Cross-Validated Accuracy', fontsize=14)\n",
    "\n",
    "plt.xticks(results['param_n_neighbors'].astype(int), fontsize=12)\n",
    "plt.yticks(fontsize=12)\n",
    "plt.grid()\n",
    "plt.xticks(rotation=45)  \n",
    "plt.tight_layout()  \n",
    "plt.show()\n"
   ]
  },
  {
   "cell_type": "code",
   "execution_count": 44,
   "metadata": {},
   "outputs": [
    {
     "name": "stdout",
     "output_type": "stream",
     "text": [
      "Best K: 9\n",
      "Best Cross-Validated Accuracy: 0.8641331658291456\n",
      "F1 Score on Test Data for Best K: 0.6605922551252847\n"
     ]
    }
   ],
   "source": [
    "# Report the best parameters and metrics\n",
    "best_k = 9\n",
    "best_accuracy = grid_search.best_score_\n",
    "\n",
    "# Evaluate F1 score for the best K\n",
    "knn_best = KNeighborsClassifier(n_neighbors=best_k)\n",
    "knn_best.fit(X_train, y_train)\n",
    "y_pred_test_best = knn_best.predict(X_test)\n",
    "\n",
    "best_f1_score = f1_score(y_test, y_pred_test_best)\n",
    "best_acc_score = accuracy_score(y_test, y_pred_test_best)\n",
    "\n",
    "print(f'Best K: {best_k}')\n",
    "print(f'Best Cross-Validated Accuracy: {best_accuracy}')\n",
    "print(f'F1 Score on Test Data for Best K: {best_f1_score}')"
   ]
  },
  {
   "cell_type": "markdown",
   "metadata": {},
   "source": [
    "### Comment on the accuracy and f1 score between 2 number of k values ( k = 1 and k = best k = 9)\n",
    "\n",
    "- k = 1:\n",
    "  1. Accuracy score on testing data is: 81.7%\n",
    "  2. F1_score on testing data is: 61.4%\n",
    "\n",
    "- k = 9\n",
    "  1. Best Cross-Validated Accuracy: 86.4%\n",
    "  2. F1 Score on Test Data for Best K: 66.06%\n",
    "\n",
    "### Comment:\n",
    "- The accuracy and F1 scores indicate that, at k=9, the performance metrics are approximately 0.5% higher for each metric compared to k=1, indicating that finding the best k for the number of neighbors is important as it will increase the model's performance."
   ]
  },
  {
   "cell_type": "markdown",
   "metadata": {},
   "source": [
    "### Step 3.3 Study how the distance metrics affect the model performance (10 marks)\n",
    "1. Change the distance metric parameter to 3 distance types: 'euclidean'(also l2), 'l1', and 'cosine', respectively, and visualise the model performance with these 3 distances, using a bar chart for both accuracy and f1 scores.\n",
    "2. Compare the performance metrics, which is the best? Which is the worest?"
   ]
  },
  {
   "cell_type": "code",
   "execution_count": 45,
   "metadata": {},
   "outputs": [],
   "source": [
    "X1, y = make_classification(n_samples=19900, n_features=13, n_classes=2, random_state=42)\n",
    "\n",
    "# Split the dataset\n",
    "X_train, X_test, y_train, y_test = train_test_split(X1, y, test_size=0.2, random_state=42)\n",
    "\n",
    "# Distance metrics to evaluate\n",
    "metrics = ['euclidean', 'manhattan', 'cosine']\n",
    "accuracy_scores = []\n",
    "f1_scores = []"
   ]
  },
  {
   "cell_type": "code",
   "execution_count": 46,
   "metadata": {},
   "outputs": [],
   "source": [
    "for metric in metrics:\n",
    "    knn = KNeighborsClassifier(metric=metric)\n",
    "    knn.fit(X_train, y_train)\n",
    "    y_pred = knn.predict(X_test)\n",
    "    \n",
    "    # Calculate accuracy and F1 score\n",
    "    accuracy = accuracy_score(y_test, y_pred)\n",
    "    f1 = f1_score(y_test, y_pred)\n",
    "    \n",
    "    accuracy_scores.append(accuracy)\n",
    "    f1_scores.append(f1)\n",
    "\n",
    "# Create a DataFrame for better visualization\n",
    "results = pd.DataFrame({\n",
    "    'Metric': metrics,\n",
    "    'Accuracy': accuracy_scores,\n",
    "    'F1 Score': f1_scores\n",
    "})"
   ]
  },
  {
   "cell_type": "code",
   "execution_count": 51,
   "metadata": {},
   "outputs": [
    {
     "data": {
      "image/png": "[encoded data removed]",
      "text/plain": [
       "<Figure size 1200x600 with 2 Axes>"
      ]
     },
     "metadata": {},
     "output_type": "display_data"
    },
    {
     "name": "stdout",
     "output_type": "stream",
     "text": [
      "Best Accuracy: manhattan with score: 0.9253768844221105\n",
      "Worst Accuracy: cosine with score: 0.8917085427135678\n",
      "Best F1 Score: manhattan with score: 0.9256942707030273\n",
      "Worst F1 Score: cosine with score: 0.8930786405358472\n"
     ]
    }
   ],
   "source": [
    "# Plotting the results\n",
    "fig, ax = plt.subplots(1, 2, figsize=(12, 6))\n",
    "results.plot(kind='bar', x='Metric', y='Accuracy', ax=ax[0], color='skyblue', legend=False)\n",
    "ax[0].set_title('Model Accuracy by Distance Metric')\n",
    "ax[0].set_ylabel('Accuracy')\n",
    "\n",
    "# F1 Score bar chart\n",
    "results.plot(kind='bar', x='Metric', y='F1 Score', ax=ax[1], color='lightgreen', legend=False)\n",
    "ax[1].set_title('Model F1 Score by Distance Metric')\n",
    "ax[1].set_ylabel('F1 Score')\n",
    "\n",
    "plt.tight_layout()\n",
    "plt.show()\n",
    "\n",
    "# Compare the performance metrics\n",
    "best_accuracy_index = np.argmax(accuracy_scores)\n",
    "worst_accuracy_index = np.argmin(accuracy_scores)\n",
    "best_f1_index = np.argmax(f1_scores)\n",
    "worst_f1_index = np.argmin(f1_scores)\n",
    "\n",
    "print(f\"Best Accuracy: {metrics[best_accuracy_index]} with score: {accuracy_scores[best_accuracy_index]}\")\n",
    "print(f\"Worst Accuracy: {metrics[worst_accuracy_index]} with score: {accuracy_scores[worst_accuracy_index]}\")\n",
    "print(f\"Best F1 Score: {metrics[best_f1_index]} with score: {f1_scores[best_f1_index]}\")\n",
    "print(f\"Worst F1 Score: {metrics[worst_f1_index]} with score: {f1_scores[worst_f1_index]}\")"
   ]
  },
  {
   "cell_type": "markdown",
   "metadata": {},
   "source": [
    "### Comment:\n",
    "- In this model, the distance type has the best performance in 2 metric outcomes is Manhattan type, with 92.53% accuracy score and 92.57% F1 score, while the worst type is cosine, with roughly 89% in both metrics."
   ]
  }
 ],
 "metadata": {
  "colab": {
   "provenance": []
  },
  "kernelspec": {
   "display_name": "Python 3 (ipykernel)",
   "language": "python",
   "name": "python3"
  },
  "language_info": {
   "codemirror_mode": {
    "name": "ipython",
    "version": 3
   },
   "file_extension": ".py",
   "mimetype": "text/x-python",
   "name": "python",
   "nbconvert_exporter": "python",
   "pygments_lexer": "ipython3",
   "version": "3.11.7"
  }
 },
 "nbformat": 4,
 "nbformat_minor": 4
}
