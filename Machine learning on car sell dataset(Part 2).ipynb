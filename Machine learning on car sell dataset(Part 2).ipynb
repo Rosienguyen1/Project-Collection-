{
 "cells": [
  {
   "cell_type": "code",
   "execution_count": 2,
   "id": "0e327626",
   "metadata": {},
   "outputs": [],
   "source": [
    "import pandas as pd\n",
    "import numpy as np\n",
    "from sklearn.model_selection import train_test_split\n",
    "from sklearn import linear_model\n",
    "from sklearn.metrics import r2_score\n",
    "import seaborn as sns\n",
    "import matplotlib.pylab as plt\n",
    "%matplotlib inline"
   ]
  },
  {
   "cell_type": "markdown",
   "id": "0g4OhHHzklO6",
   "metadata": {
    "id": "0g4OhHHzklO6"
   },
   "source": [
    "### 1. Import Cleaned Car Sell Dataset"
   ]
  },
  {
   "cell_type": "code",
   "execution_count": 3,
   "id": "9ki1LBees70W",
   "metadata": {
    "colab": {
     "base_uri": "https://localhost:8080/"
    },
    "id": "9ki1LBees70W",
    "outputId": "d3ff4349-47d0-423b-ef22-caf78c9883f5"
   },
   "outputs": [
    {
     "name": "stdout",
     "output_type": "stream",
     "text": [
      "The number of rows and columns in car data set is: (3657, 8)\n"
     ]
    }
   ],
   "source": [
    "#Read the car sell dataset and print its length.\n",
    "car = pd.read_csv('/Users/nguyenphucnhuhai/Documents/GitHub/Portfolio 2/car_sells_clean_data.csv')\n",
    "\n",
    "print(\"The number of rows and columns in car data set is:\",car.shape)"
   ]
  },
  {
   "cell_type": "markdown",
   "id": "RpXf1q3UklO7",
   "metadata": {
    "id": "RpXf1q3UklO7"
   },
   "source": [
    "### 2: Explore the Dataset"
   ]
  },
  {
   "cell_type": "code",
   "execution_count": 4,
   "id": "7551c655",
   "metadata": {},
   "outputs": [
    {
     "name": "stdout",
     "output_type": "stream",
     "text": [
      "<class 'pandas.core.frame.DataFrame'>\n",
      "RangeIndex: 3657 entries, 0 to 3656\n",
      "Data columns (total 8 columns):\n",
      " #   Column         Non-Null Count  Dtype  \n",
      "---  ------         --------------  -----  \n",
      " 0   name           3657 non-null   object \n",
      " 1   year           3657 non-null   float64\n",
      " 2   selling_price  3657 non-null   int64  \n",
      " 3   km_driven      3657 non-null   int64  \n",
      " 4   fuel           3657 non-null   object \n",
      " 5   seller_type    3657 non-null   object \n",
      " 6   transmission   3657 non-null   object \n",
      " 7   owner          3657 non-null   object \n",
      "dtypes: float64(1), int64(2), object(5)\n",
      "memory usage: 228.7+ KB\n"
     ]
    },
    {
     "data": {
      "text/html": [
       "<div>\n",
       "<style scoped>\n",
       "    .dataframe tbody tr th:only-of-type {\n",
       "        vertical-align: middle;\n",
       "    }\n",
       "\n",
       "    .dataframe tbody tr th {\n",
       "        vertical-align: top;\n",
       "    }\n",
       "\n",
       "    .dataframe thead th {\n",
       "        text-align: right;\n",
       "    }\n",
       "</style>\n",
       "<table border=\"1\" class=\"dataframe\">\n",
       "  <thead>\n",
       "    <tr style=\"text-align: right;\">\n",
       "      <th></th>\n",
       "      <th>name</th>\n",
       "      <th>year</th>\n",
       "      <th>selling_price</th>\n",
       "      <th>km_driven</th>\n",
       "      <th>fuel</th>\n",
       "      <th>seller_type</th>\n",
       "      <th>transmission</th>\n",
       "      <th>owner</th>\n",
       "    </tr>\n",
       "  </thead>\n",
       "  <tbody>\n",
       "    <tr>\n",
       "      <th>0</th>\n",
       "      <td>Maruti 800 AC</td>\n",
       "      <td>2007.0</td>\n",
       "      <td>60000</td>\n",
       "      <td>70000</td>\n",
       "      <td>Petrol</td>\n",
       "      <td>Individual</td>\n",
       "      <td>Manual</td>\n",
       "      <td>First Owner</td>\n",
       "    </tr>\n",
       "    <tr>\n",
       "      <th>1</th>\n",
       "      <td>Maruti Wagon R LXI Minor</td>\n",
       "      <td>2007.0</td>\n",
       "      <td>135000</td>\n",
       "      <td>50000</td>\n",
       "      <td>Petrol</td>\n",
       "      <td>Individual</td>\n",
       "      <td>Manual</td>\n",
       "      <td>First Owner</td>\n",
       "    </tr>\n",
       "    <tr>\n",
       "      <th>2</th>\n",
       "      <td>Hyundai Verna 1.6 SX</td>\n",
       "      <td>2012.0</td>\n",
       "      <td>600000</td>\n",
       "      <td>100000</td>\n",
       "      <td>Diesel</td>\n",
       "      <td>Individual</td>\n",
       "      <td>Manual</td>\n",
       "      <td>First Owner</td>\n",
       "    </tr>\n",
       "    <tr>\n",
       "      <th>3</th>\n",
       "      <td>Datsun RediGO T Option</td>\n",
       "      <td>2017.0</td>\n",
       "      <td>250000</td>\n",
       "      <td>46000</td>\n",
       "      <td>Petrol</td>\n",
       "      <td>Individual</td>\n",
       "      <td>Manual</td>\n",
       "      <td>First Owner</td>\n",
       "    </tr>\n",
       "    <tr>\n",
       "      <th>4</th>\n",
       "      <td>Honda Amaze VX i-DTEC</td>\n",
       "      <td>2014.0</td>\n",
       "      <td>450000</td>\n",
       "      <td>141000</td>\n",
       "      <td>Diesel</td>\n",
       "      <td>Individual</td>\n",
       "      <td>Manual</td>\n",
       "      <td>Second Owner</td>\n",
       "    </tr>\n",
       "  </tbody>\n",
       "</table>\n",
       "</div>"
      ],
      "text/plain": [
       "                       name    year  selling_price  km_driven    fuel  \\\n",
       "0             Maruti 800 AC  2007.0          60000      70000  Petrol   \n",
       "1  Maruti Wagon R LXI Minor  2007.0         135000      50000  Petrol   \n",
       "2      Hyundai Verna 1.6 SX  2012.0         600000     100000  Diesel   \n",
       "3    Datsun RediGO T Option  2017.0         250000      46000  Petrol   \n",
       "4     Honda Amaze VX i-DTEC  2014.0         450000     141000  Diesel   \n",
       "\n",
       "  seller_type transmission         owner  \n",
       "0  Individual       Manual   First Owner  \n",
       "1  Individual       Manual   First Owner  \n",
       "2  Individual       Manual   First Owner  \n",
       "3  Individual       Manual   First Owner  \n",
       "4  Individual       Manual  Second Owner  "
      ]
     },
     "execution_count": 4,
     "metadata": {},
     "output_type": "execute_result"
    }
   ],
   "source": [
    "#Explore dataset\n",
    "car.head() \n",
    "car.info()\n",
    "car.dtypes\n",
    "obj_car = car.select_dtypes(include=['object'].copy())\n",
    "car.head()"
   ]
  },
  {
   "cell_type": "code",
   "execution_count": 5,
   "id": "a9efc061-0a58-46ce-8ac7-376e85017b20",
   "metadata": {},
   "outputs": [
    {
     "name": "stdout",
     "output_type": "stream",
     "text": [
      "<class 'pandas.core.frame.DataFrame'>\n",
      "RangeIndex: 3657 entries, 0 to 3656\n",
      "Data columns (total 8 columns):\n",
      " #   Column         Non-Null Count  Dtype  \n",
      "---  ------         --------------  -----  \n",
      " 0   name           3657 non-null   object \n",
      " 1   year           3657 non-null   float64\n",
      " 2   selling_price  3657 non-null   int64  \n",
      " 3   km_driven      3657 non-null   int64  \n",
      " 4   fuel           3657 non-null   float64\n",
      " 5   seller_type    3657 non-null   float64\n",
      " 6   transmission   3657 non-null   float64\n",
      " 7   owner          3657 non-null   float64\n",
      "dtypes: float64(5), int64(2), object(1)\n",
      "memory usage: 228.7+ KB\n",
      "year             0.411103\n",
      "km_driven       -0.177203\n",
      "seller_type     -0.208637\n",
      "fuel            -0.277627\n",
      "owner           -0.205524\n",
      "selling_price    1.000000\n",
      "Name: selling_price, dtype: float64\n"
     ]
    }
   ],
   "source": [
    "from sklearn.preprocessing import OrdinalEncoder\n",
    "#Copy the car dataset into car_encoded, avoiding the lost information in original data\n",
    "car_encoded = car.copy()\n",
    "\n",
    "encoder = OrdinalEncoder()\n",
    "\n",
    "car_encoded[['fuel','seller_type','transmission','owner']] = encoder.fit_transform(car_encoded[['fuel','seller_type','transmission','owner']])\n",
    "\n",
    "car_encoded.info()\n",
    "\n",
    "corr = car_encoded[['year','km_driven','seller_type','fuel','owner','selling_price']].corr()\n",
    "\n",
    "#Correlation group by selling price and other features\n",
    "sell_price_cor = corr['selling_price']\n",
    "print(sell_price_cor)"
   ]
  },
  {
   "cell_type": "markdown",
   "id": "674c7661-23fe-4ce7-a3b6-70f9368596b5",
   "metadata": {},
   "source": [
    "### Comment on correlation matrix\n",
    "It is clear that the correlation between two categories is strong if they are close to -1 (negative correlated) or 1 (positive correlated). In contrast, the value close to 0 means no correlation at all.\n",
    "\n",
    "In this case, all of the categories are negatively correlated to selling_price (except year). Year is the most correlated with selling price, with the value over 0.4, strongly indicating that the newer cars will likely have a higher price compared to the old ones. Year might be a significant predictor in a regression model, as it has a relatively strong positive correlation with selling price. \n",
    "\n",
    "With the negative correlation, it suggest that higher values for these features are associated with lower selling prices (the more kilometer driven, more owner own the car, the less price the car is).\n",
    "\n",
    "Km_driven is the least contribution feature and the weak predictor in prediction model. The negative correlation highlights the more mileage, the less price in sell, but this correlation seems to be weaker than others.\n"
   ]
  },
  {
   "cell_type": "markdown",
   "id": "C3DFUuGXklO_",
   "metadata": {
    "id": "C3DFUuGXklO_"
   },
   "source": [
    "### 3: Split Training and Testing Data\n",
    "* Machine learning models are trained to help make predictions for the future. Normally, we need to randomly split the dataset into training and testing sets, where we use the training set to train the model, and then leverage the well-trained model to make predictions on the testing set.\n",
    "* To further investigate whether the size of the training/testing data affects the model performance, please randomly split the data into training and testing sets with different sizes:\n",
    "    * Case 1: training data containing 10% of the entire data;\n",
    "    * Case 2: training data containing 90% of the entire data.\n",
    "* Print the shape of training and testing sets in the two cases."
   ]
  },
  {
   "cell_type": "code",
   "execution_count": 9,
   "id": "47f6b5cd",
   "metadata": {},
   "outputs": [
    {
     "name": "stdout",
     "output_type": "stream",
     "text": [
      "(365, 8)\n",
      "(3292, 8)\n",
      "(366, 8)\n",
      "(3291, 8)\n"
     ]
    }
   ],
   "source": [
    "# Case 1: 10% for training and 90% for testing\n",
    "train_case1, test_case1 = train_test_split(car_encoded,test_size = 0.9, random_state = 42)\n",
    "\n",
    "# Case 2: 90% for training and 10% for testing\n",
    "train_case2, test_case2 = train_test_split(car_encoded,test_size = 0.1, random_state = 42)\n",
    "\n",
    "print(train_case1.shape)\n",
    "print(test_case1.shape)\n",
    "print(test_case2.shape)\n",
    "print(train_case2.shape)"
   ]
  },
  {
   "cell_type": "markdown",
   "id": "WiNRCPFoklO_",
   "metadata": {
    "id": "WiNRCPFoklO_"
   },
   "source": [
    "### 4: Train Linear Regression Models with Feature Selection under Cases 1 & 2"
   ]
  },
  {
   "cell_type": "markdown",
   "id": "cf5368c6-de2f-4e06-9968-aa4aa5308436",
   "metadata": {},
   "source": [
    "## Case 1: 10% training and 90% testing\n",
    "### Model A (most correlated features: year and fuel), and Model B (least correlated features: km_driven and owner)"
   ]
  },
  {
   "cell_type": "code",
   "execution_count": 10,
   "id": "95aafe36-b8fc-4465-9eab-66f79edc1e89",
   "metadata": {},
   "outputs": [
    {
     "name": "stdout",
     "output_type": "stream",
     "text": [
      "The MSE in model A: 240873725575.09464\n",
      "The MSRE in model A: 490788.88085926994\n"
     ]
    }
   ],
   "source": [
    "from sklearn.preprocessing import StandardScaler\n",
    "from sklearn.linear_model import LinearRegression\n",
    "from sklearn.metrics import mean_squared_error, r2_score\n",
    "\n",
    "#Model A\n",
    "X_train1_most = train_case1[['year','fuel']]\n",
    "X_test1_most = test_case1[['year','fuel']]\n",
    "y_train1_most = train_case1[['selling_price']]\n",
    "y_test1_most = test_case1[['selling_price']]\n",
    "\n",
    "scaler = StandardScaler()\n",
    "X_train1_most = scaler.fit_transform(X_train1_most)\n",
    "X_test1_most = scaler.transform(X_test1_most)\n",
    "\n",
    "model_a = LinearRegression()\n",
    "model_a.fit(X_train1_most, y_train1_most)\n",
    "\n",
    "y_predict1_most = model_a.predict(X_test1_most)\n",
    "\n",
    "mse_a = mean_squared_error(y_test1_most, y_predict1_most)\n",
    "msre_a = np.sqrt(mse_a)\n",
    "\n",
    "print(\"The MSE in model A:\",mse_a)\n",
    "print(\"The MSRE in model A:\",msre_a)"
   ]
  },
  {
   "cell_type": "code",
   "execution_count": 14,
   "id": "b880bc3a-489d-4dc6-8626-1ebfe32ab1cb",
   "metadata": {},
   "outputs": [
    {
     "name": "stdout",
     "output_type": "stream",
     "text": [
      "The MSE in model B: 292715789614.6963\n",
      "The MSRE in model B: 541032.152108076\n"
     ]
    }
   ],
   "source": [
    "#Model B\n",
    "X_train1_least = train_case1[['km_driven','owner']]\n",
    "X_test1_least = test_case1[['km_driven','owner']]\n",
    "y_train1_least = train_case1[['selling_price']]\n",
    "y_test1_least = test_case1[['selling_price']]\n",
    "\n",
    "model_b = LinearRegression()\n",
    "model_b.fit(X_train1_least, y_train1_least)\n",
    "\n",
    "y_predict1_least = model_b.predict(X_test1_least)\n",
    "\n",
    "mse_b = mean_squared_error(y_test1_least, y_predict1_least)\n",
    "msre_b = np.sqrt(mse_b)\n",
    "\n",
    "print(\"The MSE in model B:\",mse_b)\n",
    "print(\"The MSRE in model B:\",msre_b)"
   ]
  },
  {
   "cell_type": "markdown",
   "id": "06258dcc-46aa-4812-a153-f074819b0fa6",
   "metadata": {},
   "source": [
    "## Case 2: 90% training and 10% testing\n",
    "### Model C (most correlated features: year and fuel), and Model D (least correlated features: km_driven and owner)"
   ]
  },
  {
   "cell_type": "code",
   "execution_count": 15,
   "id": "f01bbd07-74af-438c-9dc5-1784ca13cc91",
   "metadata": {},
   "outputs": [
    {
     "name": "stdout",
     "output_type": "stream",
     "text": [
      "The MSE in model C: 141350876932.57806\n",
      "The MSRE in model C: 375966.59018133255\n"
     ]
    }
   ],
   "source": [
    "# Model C\n",
    "X_train2_most = train_case2[['year','fuel']]\n",
    "X_test2_most = test_case2[['year','fuel']]\n",
    "y_train2_most = train_case2[['selling_price']]\n",
    "y_test2_most = test_case2[['selling_price']]\n",
    "\n",
    "model_c = LinearRegression()\n",
    "model_c.fit(X_train2_most, y_train2_most)\n",
    "\n",
    "y_predict2_most = model_c.predict(X_test2_most)\n",
    "\n",
    "mse_c = mean_squared_error( y_test2_most, y_predict2_most)\n",
    "msre_c = np.sqrt(mse_c)\n",
    "\n",
    "print(\"The MSE in model C:\",mse_c)\n",
    "print(\"The MSRE in model C:\",msre_c)"
   ]
  },
  {
   "cell_type": "code",
   "execution_count": 16,
   "id": "66326ede-b6ef-4536-afa5-f1ad72909fb0",
   "metadata": {},
   "outputs": [
    {
     "name": "stdout",
     "output_type": "stream",
     "text": [
      "The MSE in model D: 202317888353.18442\n",
      "The MSRE in model D: 449797.60821194283\n"
     ]
    }
   ],
   "source": [
    "# Model D\n",
    "X_train2_least = train_case2[['km_driven','owner']]\n",
    "y_train2_least = train_case2[['selling_price']]\n",
    "X_test2_least = test_case2[['km_driven','owner']]\n",
    "y_test2_least = test_case2[['selling_price']]\n",
    "\n",
    "model_d = LinearRegression()\n",
    "model_d.fit(X_train2_least, y_train2_least)\n",
    "\n",
    "y_predict2_least = model_b.predict(X_test2_least)\n",
    "\n",
    "mse_d = mean_squared_error(y_test2_least, y_predict2_least)\n",
    "msre_d = np.sqrt(mse_d)\n",
    "\n",
    "print(\"The MSE in model D:\",mse_d)\n",
    "print(\"The MSRE in model D:\",msre_d)"
   ]
  },
  {
   "cell_type": "markdown",
   "id": "uIHDIRCYklO_",
   "metadata": {
    "id": "uIHDIRCYklO_"
   },
   "source": [
    "### 5: Evaluate Models\n",
    "* Evaluate the performance of the four models with two metrics, including MSE and Root MSE\n",
    "* Print the results of the four models regarding the two metrics"
   ]
  },
  {
   "cell_type": "markdown",
   "id": "81fb5b88-e884-4e9c-af2c-07af5334ebee",
   "metadata": {},
   "source": [
    "### MSE metric\n",
    "- Model a: 240873725575.09464\n",
    "- Model b: 292715789614.6963\n",
    "- Model c: 141350876932.57806\n",
    "- Model d: 202317888353.18442\n",
    "\n",
    "### MSRE metric\n",
    "- Model a: 490788.88085926994\n",
    "- Model b: 541032.152108076\n",
    "- Model c: 375966.59018133255\n",
    "- Model d: 449797.60821194283\n",
    "\n",
    "### Evaluation\n",
    "- **Classify by case 1 and case 2:**\n",
    " \n",
    "Overall, model a and model b (perform under case 1 method), with only 10% of the data used for training, the model may not have enough information to learn the underlying patterns effectively. As a result, the model are more variable from the actual values, and perform poorly on the test set, leading to a potentially higher MSE compared to model c and model d. These two models might not provide a reliable estimation because of lacking of sufficient data for training.\n",
    "\n",
    "For case 2 method,with 90% of data used for training, which allow the model to access to a large amount of information to learn the important pattern. Therefore, the MSE will be lower than case 1 as the model is better fit on the training data and closer to the actual values, sugessting a better performance and high accuracy on capturing the underlying patterns in the data. However, only 10% on test data cannot effectively test the performance of the model, leading to the less reliable if the model has overfitted.\n",
    "\n",
    "- **Classify by the most and least correlated features:**\n",
    "  \n",
    "With the most correlated features, MSE seems to be lower compared to the least correlated ones as the higher correlation features provide more meaningful predictions and contribute to improved model accuracy. In contrast, the model with least correlated features often show higher in error, indicating reduced predictive performance. As a result, MSE and MSRE tend to be higher as the errors differ greatly from the actual values. \n"
   ]
  },
  {
   "cell_type": "markdown",
   "id": "6wmgPAzpklPA",
   "metadata": {
    "id": "6wmgPAzpklPA"
   },
   "source": [
    "### 6: Visualize, Compare and Analyze the Results\n",
    "* Visulize the results, and perform ___insightful analysis___ on the obtained results. For better visualization, you may need to carefully set the scale for the y-axis.\n",
    "* Normally, the model trained with most correlated features and more training data will get better results. Do you obtain the similar observations? If not, please ___explain the possible reasons___."
   ]
  },
  {
   "cell_type": "code",
   "execution_count": 17,
   "id": "8f11fed2-202a-4d7f-a984-666a8ecc997b",
   "metadata": {},
   "outputs": [],
   "source": [
    "# MSE and MSRE values for four models\n",
    "model_dat = {\n",
    "    'Model': ['Model A', 'Model B', 'Model C', 'Model D'],\n",
    "    'MSE': [240873725575.09464, 292715789614.6963, 141350876932.57806, 202317888353.18442],\n",
    "    'MSRE': [490788.88085926994, 541032.152108076, 375966.59018133255, 449797.60821194283]\n",
    "}\n",
    "model_dat = pd.DataFrame(model_dat)"
   ]
  },
  {
   "cell_type": "code",
   "execution_count": 20,
   "id": "9fcfbfab-8a89-4726-a33c-f52050f69358",
   "metadata": {},
   "outputs": [
    {
     "data": {
      "image/png": "[encoded data removed]",
      "text/plain": [
       "<Figure size 1400x600 with 2 Axes>"
      ]
     },
     "metadata": {},
     "output_type": "display_data"
    }
   ],
   "source": [
    "# Plot\n",
    "plt.figure(figsize=(14, 6))\n",
    "\n",
    "# Plot MSE\n",
    "plt.subplot(1, 2, 1)\n",
    "sns.barplot(x='Model', y='MSE', data=model_dat, palette='viridis')\n",
    "plt.title('MSE Comparison Across Different Models')\n",
    "plt.xlabel('Model')\n",
    "plt.ylabel('Mean Squared Error (MSE)')\n",
    "plt.yscale('log')  # Log scale for better visibility of large ranges\n",
    "\n",
    "# Plot MSRE\n",
    "plt.subplot(1, 2, 2)\n",
    "sns.barplot(x='Model', y='MSRE', data=model_dat, palette='viridis')\n",
    "plt.title('MSRE Comparison Across Different Models')\n",
    "plt.xlabel('Model')\n",
    "plt.ylabel('Mean Squared Residual Error (MSRE)')\n",
    "plt.tight_layout()\n",
    "plt.show()"
   ]
  },
  {
   "cell_type": "markdown",
   "id": "726cc0db-7fd8-4b34-b916-8718bc5a3fc2",
   "metadata": {},
   "source": [
    "### Comment on the comparision between MSE and MSRE among 4 models.\n",
    "More training data and highly correlated features in the model's training typically lead to better outcomes, such as fewer errors and predictions that are more accurate. This can be seen in Model C, which was tested using the most associated features, \"year\" and \"fuel,\" and trained on 90% of the available data. As a result, Model C significantly outperformed the other models and produced an incredibly low MSE. This demonstrates how training with a sizable dataset and concentrating on the most underlying attributes can lead to better outcomes.\n",
    "\n",
    "In terms of  MSRE, although model C reflect the incredible low resididual values, MSRE metric result is not aligned to the MSE outcomes. The reason potentially comes from the presence of significant larger discrepancies compared to the majority. As MSRE focus and highlights the residuals; Therefore, despite the high overall model performance, there are still some large errors in the model, leading the high MSRE in model C.\n",
    "\n",
    "Among two metrics, model B performs the poorest, showing extreamly large MSE and MSRE. This low performance is caused by the use of poorly correlated features, which results in excessive residuals, and insufficient training data (only 10%), which restricts the model's capacity to learn important patterns."
   ]
  }
 ],
 "metadata": {
  "colab": {
   "provenance": []
  },
  "kernelspec": {
   "display_name": "Python 3 (ipykernel)",
   "language": "python",
   "name": "python3"
  },
  "language_info": {
   "codemirror_mode": {
    "name": "ipython",
    "version": 3
   },
   "file_extension": ".py",
   "mimetype": "text/x-python",
   "name": "python",
   "nbconvert_exporter": "python",
   "pygments_lexer": "ipython3",
   "version": "3.11.7"
  }
 },
 "nbformat": 4,
 "nbformat_minor": 5
}
